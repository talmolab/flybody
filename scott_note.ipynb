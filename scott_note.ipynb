{
 "cells": [
  {
   "cell_type": "markdown",
   "metadata": {},
   "source": [
    "# Current Issue"
   ]
  },
  {
   "cell_type": "markdown",
   "metadata": {},
   "source": [
    "When swapping the agent to use the vision, it dislike the observation space where it uses the camera, since the rendering output of the camera is `('walker/egocentric_camera', BoundedArray(shape=(64, 64, 3), dtype=dtype('uint8')`, but it expect a float."
   ]
  },
  {
   "cell_type": "markdown",
   "metadata": {},
   "source": [
    "> Fixed! This is achieved by the new wrapper that converts the uint8 to float32, to be consistent with the rest of the observation spaces."
   ]
  },
  {
   "cell_type": "markdown",
   "metadata": {},
   "source": [
    "> New Error\n",
    "\n",
    "```\n",
    "2024-07-19 07:59:43,188 ERROR worker.py:409 -- Unhandled error (suppress with 'RAY_IGNORE_UNHANDLED_ERRORS=1'): ray::EnvironmentLoop.run() (pid=2623445, ip=10.244.10.88, actor_id=7619541ce6bdcfe57077c81e01000000, repr=<flybody.agents.ray_distributed_dmpo.EnvironmentLoop object at 0x7f1883744be0>)\n",
    "  File \"/root/anaconda3/envs/flybody/lib/python3.10/site-packages/acme/environment_loop.py\", line 158, in run\n",
    "    result = self.run_episode()\n",
    "  File \"/root/anaconda3/envs/flybody/lib/python3.10/site-packages/acme/environment_loop.py\", line 94, in run_episode\n",
    "    action = self._actor.select_action(timestep.observation)\n",
    "  File \"/root/vast/scott-yang/flybody/flybody/agents/actors.py\", line 79, in select_action\n",
    "    action = self._policy(observation)\n",
    "  File \"/root/anaconda3/envs/flybody/lib/python3.10/site-packages/tensorflow/python/util/traceback_utils.py\", line 153, in error_handler\n",
    "    raise e.with_traceback(filtered_tb) from None\n",
    "  File \"/root/anaconda3/envs/flybody/lib/python3.10/site-packages/tensorflow/python/framework/func_graph.py\", line 1147, in autograph_handler\n",
    "    raise e.ag_error_metadata.to_exception(e)\n",
    "TypeError: in user code:\n",
    "\n",
    "    File \"/root/vast/scott-yang/flybody/flybody/agents/actors.py\", line 65, in _policy  *\n",
    "        policy = self._policy_network(batched_observation)\n",
    "    File \"/root/anaconda3/envs/flybody/lib/python3.10/site-packages/sonnet/src/utils.py\", line 85, in _decorate_unbound_method  *\n",
    "        return decorator_fn(bound_method, self, args, kwargs)\n",
    "    File \"/root/anaconda3/envs/flybody/lib/python3.10/site-packages/sonnet/src/base.py\", line 262, in wrap_with_name_scope  *\n",
    "        return method(*args, **kwargs)\n",
    "    File \"/root/anaconda3/envs/flybody/lib/python3.10/site-packages/sonnet/src/sequential.py\", line 68, in __call__  *\n",
    "        outputs = mod(outputs, *args, **kwargs)\n",
    "    File \"/root/anaconda3/envs/flybody/lib/python3.10/site-packages/sonnet/src/utils.py\", line 85, in _decorate_unbound_method  *\n",
    "        return decorator_fn(bound_method, self, args, kwargs)\n",
    "    File \"/root/anaconda3/envs/flybody/lib/python3.10/site-packages/sonnet/src/base.py\", line 262, in wrap_with_name_scope  *\n",
    "        return method(*args, **kwargs)\n",
    "    File \"/root/anaconda3/envs/flybody/lib/python3.10/site-packages/acme/tf/utils.py\", line 144, in __call__  *\n",
    "        return self._transformation(*args, **kwargs)\n",
    "    File \"/root/anaconda3/envs/flybody/lib/python3.10/site-packages/acme/tf/utils.py\", line 54, in batch_concat  *\n",
    "        return tf.concat(tree.flatten(flat_leaves), axis=-1)\n",
    "\n",
    "    TypeError: Tensors in list passed to 'values' of 'ConcatV2' Op have types [float32, float32, float32, uint8, float32, float32, float32, float32, float32, float32, float32, float32, float32, float32, float32, float32] that don't all match.\n",
    "```"
   ]
  },
  {
   "cell_type": "markdown",
   "metadata": {},
   "source": [
    "# Issue (as of Jul 19)"
   ]
  },
  {
   "cell_type": "markdown",
   "metadata": {},
   "source": [
    "- two touch and maze forage is not training. \n",
    "- Image issue with fractional gpu, need to force pull on t2\n",
    "- Get those enviornment training!\n",
    "\n",
    "- TODO: wandb logging with ray,\n",
    "- TODO: ask Salk support for Ray distributed training.\n"
   ]
  }
 ],
 "metadata": {
  "language_info": {
   "name": "python"
  }
 },
 "nbformat": 4,
 "nbformat_minor": 2
}
